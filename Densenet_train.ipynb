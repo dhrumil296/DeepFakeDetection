{
  "nbformat": 4,
  "nbformat_minor": 0,
  "metadata": {
    "accelerator": "TPU",
    "colab": {
      "name": "densenet.ipynb",
      "provenance": [],
      "collapsed_sections": []
    },
    "kernelspec": {
      "display_name": "Python 3",
      "name": "python3"
    }
  },
  "cells": [
    {
      "cell_type": "code",
      "metadata": {
        "id": "nPyZSD8oxlN9"
      },
      "source": [
        "import numpy as np\n",
        "import cv2\n",
        "import pandas as pd\n",
        "from tqdm.notebook import tqdm \n",
        "from sklearn.model_selection import train_test_split\n",
        "from tensorflow.keras.preprocessing.image import ImageDataGenerator\n",
        "from tensorflow.keras import layers\n",
        "from tensorflow.keras.applications import DenseNet121\n",
        "from tensorflow.keras.callbacks import Callback, ModelCheckpoint\n",
        "from tensorflow.keras.models import Sequential\n",
        "from tensorflow.keras.optimizers import Adam\n",
        "import os\n",
        "import random\n",
        "import torch"
      ],
      "execution_count": null,
      "outputs": []
    },
    {
      "cell_type": "code",
      "metadata": {
        "id": "jnsdnNQ5N4Iq"
      },
      "source": [
        ""
      ],
      "execution_count": null,
      "outputs": []
    },
    {
      "cell_type": "code",
      "metadata": {
        "colab": {
          "base_uri": "https://localhost:8080/"
        },
        "id": "mVHMreTgyRhg",
        "outputId": "52289e97-83dc-4004-9fab-83f7b9b5f626"
      },
      "source": [
        "# configs\n",
        "MODELS_FOLDER = '/content/drive/My Drive/df/models'\n",
        "BASE_FOLDER = '/content/drive/My Drive/df'\n",
        "TRAIN_SAMPLE_VIDEOS = 'train_sample_videos'\n",
        "TRAIN_INPUT = 'input'\n",
        "TEST_VIDEOS = 'test_videos'\n",
        "TRAIN_FRAMES_FOLDER = 'train_frames'\n",
        "VALID_FRAMES_FOLDER = 'valid_frames'\n",
        "TEST_FRAMES_FOLDER = 'test_frames'\n",
        "DATA_FOLDER = 'data'\n",
        "TRAIN_FOLDER = 'train'\n",
        "VALID_FOLDER = 'valid'\n",
        "TEST_FOLDER = 'test'\n",
        "TRAIN_FACE = 'train_face'\n",
        "VALID_FACE = 'valid_face'\n",
        "METADATA = 'metadata'\n",
        "INPUT_SHAPE = (224, 224) \n",
        "BATCH_SIZE = 32\n",
        "\n",
        "SEED = 1\n",
        "random.seed(SEED)\n",
        "torch.manual_seed(SEED)"
      ],
      "execution_count": null,
      "outputs": [
        {
          "output_type": "execute_result",
          "data": {
            "text/plain": [
              "<torch._C.Generator at 0x7fa06c5e7610>"
            ]
          },
          "metadata": {
            "tags": []
          },
          "execution_count": 35
        }
      ]
    },
    {
      "cell_type": "code",
      "metadata": {
        "colab": {
          "base_uri": "https://localhost:8080/"
        },
        "id": "UrxCwBNwzdjh",
        "outputId": "b6294880-7c98-4de5-9e74-29d8c315409d"
      },
      "source": [
        "from tensorflow.keras.preprocessing.image import ImageDataGenerator\n",
        "\n",
        "\n",
        "train_datagen = ImageDataGenerator(rescale=1./255,\n",
        "                                   rotation_range=20,\n",
        "                                   zoom_range=0.15,\n",
        "                                   width_shift_range=0.2,\n",
        "                                   height_shift_range=0.2,\n",
        "                                   shear_range=0.15,\n",
        "                                   horizontal_flip=True,\n",
        "                                   fill_mode=\"nearest\")\n",
        "valid_datagen = ImageDataGenerator(rescale=1./255)\n",
        "\n",
        "train_dir = os.path.join(BASE_FOLDER, DATA_FOLDER, TRAIN_FACE)\n",
        "valid_dir = os.path.join(BASE_FOLDER, DATA_FOLDER, VALID_FACE)\n",
        "\n",
        "train_gen = train_datagen.flow_from_directory(\n",
        "    train_dir,\n",
        "    target_size=INPUT_SHAPE,\n",
        "    batch_size=BATCH_SIZE,\n",
        "    classes=['REAL', 'FAKE'],\n",
        "    class_mode='binary',\n",
        "    seed= SEED)\n",
        "\n",
        "val_gen = valid_datagen.flow_from_directory(\n",
        "    valid_dir,\n",
        "    target_size=INPUT_SHAPE,\n",
        "    batch_size=BATCH_SIZE,\n",
        "    classes=['REAL', 'FAKE'],\n",
        "    class_mode='binary',\n",
        "    seed= SEED)"
      ],
      "execution_count": null,
      "outputs": [
        {
          "output_type": "stream",
          "text": [
            "Found 12000 images belonging to 2 classes.\n",
            "Found 6996 images belonging to 2 classes.\n"
          ],
          "name": "stdout"
        }
      ]
    },
    {
      "cell_type": "code",
      "metadata": {
        "id": "2JrKFfy70diD"
      },
      "source": [
        "densenet = DenseNet121(\n",
        "    weights='/content/drive/My Drive/df/DenseNet-BC-121-32-no-top.h5',\n",
        "    include_top=False,\n",
        "    input_shape=(224,224,3)\n",
        ")\n",
        "\n",
        "for layer in densenet.layers:\n",
        "    layer.trainable = False"
      ],
      "execution_count": null,
      "outputs": []
    },
    {
      "cell_type": "code",
      "metadata": {
        "id": "bn58vx9e0j2J"
      },
      "source": [
        "def build_model(densenet):\n",
        "    model = Sequential()\n",
        "    model.add(densenet)\n",
        "    model.add(layers.GlobalAveragePooling2D())\n",
        "    model.add(layers.BatchNormalization())\n",
        "    model.add(layers.Dropout(0.5))\n",
        "    \n",
        "    model.add(layers.Dense(256, activation='relu'))\n",
        "    model.add(layers.BatchNormalization())\n",
        "    model.add(layers.Dropout(0.5))\n",
        "    \n",
        "    model.add(layers.Dense(1, activation='sigmoid'))\n",
        "    \n",
        "    model.compile(\n",
        "        loss='binary_crossentropy',\n",
        "        optimizer=Adam(lr=0.0005),\n",
        "        metrics=['accuracy']\n",
        "    )\n",
        "    \n",
        "    return model"
      ],
      "execution_count": null,
      "outputs": []
    },
    {
      "cell_type": "code",
      "metadata": {
        "colab": {
          "base_uri": "https://localhost:8080/"
        },
        "id": "w-87wI_a0pLN",
        "outputId": "3e06b94e-9d3d-4f8a-ea4c-a906dbbf4d04"
      },
      "source": [
        "model = build_model(densenet)\n",
        "models.summary()"
      ],
      "execution_count": null,
      "outputs": [
        {
          "output_type": "stream",
          "text": [
            "Model: \"sequential_1\"\n",
            "_________________________________________________________________\n",
            "Layer (type)                 Output Shape              Param #   \n",
            "=================================================================\n",
            "densenet121 (Functional)     (None, 7, 7, 1024)        7037504   \n",
            "_________________________________________________________________\n",
            "global_average_pooling2d_1 ( (None, 1024)              0         \n",
            "_________________________________________________________________\n",
            "batch_normalization_2 (Batch (None, 1024)              4096      \n",
            "_________________________________________________________________\n",
            "dropout_2 (Dropout)          (None, 1024)              0         \n",
            "_________________________________________________________________\n",
            "dense_2 (Dense)              (None, 256)               262400    \n",
            "_________________________________________________________________\n",
            "batch_normalization_3 (Batch (None, 256)               1024      \n",
            "_________________________________________________________________\n",
            "dropout_3 (Dropout)          (None, 256)               0         \n",
            "_________________________________________________________________\n",
            "dense_3 (Dense)              (None, 1)                 257       \n",
            "=================================================================\n",
            "Total params: 7,305,281\n",
            "Trainable params: 265,217\n",
            "Non-trainable params: 7,040,064\n",
            "_________________________________________________________________\n"
          ],
          "name": "stdout"
        }
      ]
    },
    {
      "cell_type": "code",
      "metadata": {
        "colab": {
          "base_uri": "https://localhost:8080/"
        },
        "id": "aO4OanaW0vRj",
        "outputId": "8a063712-efe9-4316-b82b-b6a03979c97c"
      },
      "source": [
        "checkpoint = ModelCheckpoint('model.h5', save_best_only=True)\n",
        "\n",
        "train_history_step1 = model.fit_generator(\n",
        "    train_gen,\n",
        "    validation_data=val_gen,\n",
        "    steps_per_epoch=len(train_gen),\n",
        "    validation_steps=len(val_gen),\n",
        "    callbacks=[checkpoint],\n",
        "    epochs=10\n",
        ")"
      ],
      "execution_count": null,
      "outputs": [
        {
          "output_type": "stream",
          "text": [
            "/usr/local/lib/python3.7/dist-packages/tensorflow/python/keras/engine/training.py:1844: UserWarning: `Model.fit_generator` is deprecated and will be removed in a future version. Please use `Model.fit`, which supports generators.\n",
            "  warnings.warn('`Model.fit_generator` is deprecated and '\n"
          ],
          "name": "stderr"
        },
        {
          "output_type": "stream",
          "text": [
            "Epoch 1/10\n",
            "375/375 [==============================] - 5471s 15s/step - loss: 0.8039 - accuracy: 0.6387 - val_loss: 0.6765 - val_accuracy: 0.6684\n",
            "Epoch 2/10\n",
            "375/375 [==============================] - 2667s 7s/step - loss: 0.6055 - accuracy: 0.7070 - val_loss: 0.5761 - val_accuracy: 0.7201\n",
            "Epoch 3/10\n",
            "375/375 [==============================] - 2665s 7s/step - loss: 0.5559 - accuracy: 0.7197 - val_loss: 0.5642 - val_accuracy: 0.7197\n",
            "Epoch 4/10\n",
            "375/375 [==============================] - 2671s 7s/step - loss: 0.5321 - accuracy: 0.7338 - val_loss: 0.5057 - val_accuracy: 0.7410\n",
            "Epoch 5/10\n",
            "375/375 [==============================] - 2678s 7s/step - loss: 0.5248 - accuracy: 0.7364 - val_loss: 0.5378 - val_accuracy: 0.7210\n",
            "Epoch 6/10\n",
            "375/375 [==============================] - 2684s 7s/step - loss: 0.5117 - accuracy: 0.7508 - val_loss: 0.5151 - val_accuracy: 0.7286\n",
            "Epoch 7/10\n",
            "375/375 [==============================] - 2690s 7s/step - loss: 0.5074 - accuracy: 0.7452 - val_loss: 0.5598 - val_accuracy: 0.7040\n",
            "Epoch 8/10\n",
            "375/375 [==============================] - 2722s 7s/step - loss: 0.5019 - accuracy: 0.7482 - val_loss: 0.5587 - val_accuracy: 0.7093\n",
            "Epoch 9/10\n",
            "375/375 [==============================] - 2731s 7s/step - loss: 0.4871 - accuracy: 0.7631 - val_loss: 0.5359 - val_accuracy: 0.7153\n",
            "Epoch 10/10\n",
            "375/375 [==============================] - 2729s 7s/step - loss: 0.4967 - accuracy: 0.7570 - val_loss: 0.5328 - val_accuracy: 0.7088\n"
          ],
          "name": "stdout"
        }
      ]
    },
    {
      "cell_type": "code",
      "metadata": {
        "colab": {
          "base_uri": "https://localhost:8080/",
          "height": 229
        },
        "id": "Q9LNxg_Q2UOm",
        "outputId": "b71e9534-abe9-420e-907d-607c74c057ff"
      },
      "source": [
        "model = models.load_model('/content/drive/My Drive/df/densenet.h5')\n",
        "for layer in model.layers:\n",
        "    layer.trainable = True\n",
        "\n",
        "train_history_step2 = model.fit_generator(\n",
        "    train_gen,\n",
        "    validation_data=val_gen,\n",
        "    steps_per_epoch=len(train_gen),\n",
        "    validation_steps=len(val_gen),\n",
        "    callbacks=[checkpoint],\n",
        "    epochs=5\n",
        ")"
      ],
      "execution_count": null,
      "outputs": [
        {
          "output_type": "error",
          "ename": "AttributeError",
          "evalue": "ignored",
          "traceback": [
            "\u001b[0;31m---------------------------------------------------------------------------\u001b[0m",
            "\u001b[0;31mAttributeError\u001b[0m                            Traceback (most recent call last)",
            "\u001b[0;32m<ipython-input-44-ae980b44b5d8>\u001b[0m in \u001b[0;36m<module>\u001b[0;34m()\u001b[0m\n\u001b[0;32m----> 1\u001b[0;31m \u001b[0mmodel\u001b[0m \u001b[0;34m=\u001b[0m \u001b[0mmodel\u001b[0m\u001b[0;34m.\u001b[0m\u001b[0mload_model\u001b[0m\u001b[0;34m(\u001b[0m\u001b[0;34m'/content/drive/My Drive/df/densenet.h5'\u001b[0m\u001b[0;34m)\u001b[0m\u001b[0;34m\u001b[0m\u001b[0;34m\u001b[0m\u001b[0m\n\u001b[0m\u001b[1;32m      2\u001b[0m \u001b[0;32mfor\u001b[0m \u001b[0mlayer\u001b[0m \u001b[0;32min\u001b[0m \u001b[0mmodel\u001b[0m\u001b[0;34m.\u001b[0m\u001b[0mlayers\u001b[0m\u001b[0;34m:\u001b[0m\u001b[0;34m\u001b[0m\u001b[0;34m\u001b[0m\u001b[0m\n\u001b[1;32m      3\u001b[0m     \u001b[0mlayer\u001b[0m\u001b[0;34m.\u001b[0m\u001b[0mtrainable\u001b[0m \u001b[0;34m=\u001b[0m \u001b[0;32mTrue\u001b[0m\u001b[0;34m\u001b[0m\u001b[0;34m\u001b[0m\u001b[0m\n\u001b[1;32m      4\u001b[0m \u001b[0;34m\u001b[0m\u001b[0m\n\u001b[1;32m      5\u001b[0m train_history_step2 = model.fit_generator(\n",
            "\u001b[0;31mAttributeError\u001b[0m: 'Sequential' object has no attribute 'load_model'"
          ]
        }
      ]
    },
    {
      "cell_type": "code",
      "metadata": {
        "colab": {
          "base_uri": "https://localhost:8080/"
        },
        "id": "o8ejxyExU-n7",
        "outputId": "1fa12cb5-51df-43e4-924e-1b69c8f93adf"
      },
      "source": [
        "model.summary()"
      ],
      "execution_count": null,
      "outputs": [
        {
          "output_type": "stream",
          "text": [
            "Model: \"sequential\"\n",
            "_________________________________________________________________\n",
            "Layer (type)                 Output Shape              Param #   \n",
            "=================================================================\n",
            "densenet121 (Functional)     (None, 7, 7, 1024)        7037504   \n",
            "_________________________________________________________________\n",
            "global_average_pooling2d (Gl (None, 1024)              0         \n",
            "_________________________________________________________________\n",
            "batch_normalization (BatchNo (None, 1024)              4096      \n",
            "_________________________________________________________________\n",
            "dropout (Dropout)            (None, 1024)              0         \n",
            "_________________________________________________________________\n",
            "dense (Dense)                (None, 256)               262400    \n",
            "_________________________________________________________________\n",
            "batch_normalization_1 (Batch (None, 256)               1024      \n",
            "_________________________________________________________________\n",
            "dropout_1 (Dropout)          (None, 256)               0         \n",
            "_________________________________________________________________\n",
            "dense_1 (Dense)              (None, 1)                 257       \n",
            "=================================================================\n",
            "Total params: 7,305,281\n",
            "Trainable params: 7,219,073\n",
            "Non-trainable params: 86,208\n",
            "_________________________________________________________________\n"
          ],
          "name": "stdout"
        }
      ]
    },
    {
      "cell_type": "code",
      "metadata": {
        "id": "kv8e3kVeN6dd"
      },
      "source": [
        "pd.DataFrame(train_history_step1.history).to_json('history1.json')\n"
      ],
      "execution_count": null,
      "outputs": []
    },
    {
      "cell_type": "code",
      "metadata": {
        "colab": {
          "base_uri": "https://localhost:8080/",
          "height": 295
        },
        "id": "gyofBh-fIBFQ",
        "outputId": "eea7079d-c026-4a18-e649-21c551dd8ffb"
      },
      "source": [
        "import matplotlib.pyplot as plt\n",
        "\n",
        "loss_train = train_history_step1.history['loss']\n",
        "loss_val = train_history_step1.history['val_loss']\n",
        "epochs = range(1,11)\n",
        "plt.plot(epochs, loss_train, 'g', label='Training loss')\n",
        "plt.plot(epochs, loss_val, 'b', label='Validation loss')\n",
        "plt.title('Training and Validation loss')\n",
        "plt.xlabel('Epochs')\n",
        "plt.ylabel('Loss')\n",
        "plt.legend()\n",
        "plt.show()"
      ],
      "execution_count": null,
      "outputs": [
        {
          "output_type": "display_data",
          "data": {
            "image/png": "[encoded data removed]",
            "text/plain": [
              "<Figure size 432x288 with 1 Axes>"
            ]
          },
          "metadata": {
            "tags": []
          }
        }
      ]
    },
    {
      "cell_type": "code",
      "metadata": {
        "colab": {
          "background_save": true,
          "base_uri": "https://localhost:8080/",
          "height": 167
        },
        "id": "Rhw8ktQyMudS",
        "outputId": "bf22447b-212a-4feb-9a73-a446ba65411c"
      },
      "source": [
        "print(train_history_step1.history.keys())"
      ],
      "execution_count": null,
      "outputs": [
        {
          "output_type": "error",
          "ename": "SyntaxError",
          "evalue": "ignored",
          "traceback": [
            "\u001b[0;36m  File \u001b[0;32m\"<ipython-input-1-b6f68d3698f1>\"\u001b[0;36m, line \u001b[0;32m1\u001b[0m\n\u001b[0;31m    print(train_history_step1.history.keys[])\u001b[0m\n\u001b[0m                                           ^\u001b[0m\n\u001b[0;31mSyntaxError\u001b[0m\u001b[0;31m:\u001b[0m invalid syntax\n"
          ]
        }
      ]
    },
    {
      "cell_type": "code",
      "metadata": {
        "colab": {
          "base_uri": "https://localhost:8080/",
          "height": 295
        },
        "id": "ckG-7Zb8Mauu",
        "outputId": "aaa985fe-e70c-4194-b38f-0bcaec8c376e"
      },
      "source": [
        "loss_train = train_history_step1.history['accuracy']\n",
        "loss_val = train_history_step1.history['val_accuracy']\n",
        "epochs = range(1,11)\n",
        "plt.plot(epochs, loss_train, 'g', label='Training accuracy')\n",
        "plt.plot(epochs, loss_val, 'b', label='Validation accuracy')\n",
        "plt.title('Training and Validation accuracy')\n",
        "plt.xlabel('Epochs')\n",
        "plt.ylabel('Accuracy')\n",
        "plt.legend()\n",
        "plt.show()"
      ],
      "execution_count": null,
      "outputs": [
        {
          "output_type": "display_data",
          "data": {
            "image/png": "[encoded data removed]",
            "text/plain": [
              "<Figure size 432x288 with 1 Axes>"
            ]
          },
          "metadata": {
            "tags": []
          }
        }
      ]
    },
    {
      "cell_type": "code",
      "metadata": {
        "id": "DypbxS5THi4T"
      },
      "source": [
        "pd.DataFrame(train_history_step2.history).to_csv('history2.csv')"
      ],
      "execution_count": null,
      "outputs": []
    },
    {
      "cell_type": "code",
      "metadata": {
        "id": "UCPvZDo4N9hN"
      },
      "source": [
        "model.save('/content/drive/My Drive/df/densenet.h5')"
      ],
      "execution_count": null,
      "outputs": []
    },
    {
      "cell_type": "code",
      "metadata": {
        "colab": {
          "base_uri": "https://localhost:8080/",
          "height": 162
        },
        "id": "A40fDe3lWPHR",
        "outputId": "fe35a1ec-a45d-4c84-d85f-40b44f29cf97"
      },
      "source": [
        "model.summary()"
      ],
      "execution_count": null,
      "outputs": [
        {
          "output_type": "error",
          "ename": "NameError",
          "evalue": "ignored",
          "traceback": [
            "\u001b[0;31m---------------------------------------------------------------------------\u001b[0m",
            "\u001b[0;31mNameError\u001b[0m                                 Traceback (most recent call last)",
            "\u001b[0;32m<ipython-input-46-e3e273a0cbd4>\u001b[0m in \u001b[0;36m<module>\u001b[0;34m()\u001b[0m\n\u001b[0;32m----> 1\u001b[0;31m \u001b[0mprint\u001b[0m\u001b[0;34m(\u001b[0m\u001b[0mcheckpoint\u001b[0m\u001b[0;34m)\u001b[0m\u001b[0;34m\u001b[0m\u001b[0;34m\u001b[0m\u001b[0m\n\u001b[0m",
            "\u001b[0;31mNameError\u001b[0m: name 'checkpoint' is not defined"
          ]
        }
      ]
    }
  ]
}