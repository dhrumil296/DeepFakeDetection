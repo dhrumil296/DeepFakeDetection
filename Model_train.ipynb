{
  "nbformat": 4,
  "nbformat_minor": 0,
  "metadata": {
    "colab": {
      "name": "model train",
      "provenance": [],
      "collapsed_sections": [],
      "toc_visible": true
    },
    "kernelspec": {
      "name": "python3",
      "display_name": "Python 3"
    }
  },
  "cells": [
    {
      "cell_type": "code",
      "metadata": {
        "id": "JYFQH1dstE-9",
        "colab": {
          "base_uri": "https://localhost:8080/"
        },
        "outputId": "f21303fe-3ad3-40c3-f3f7-40e416c967a4"
      },
      "source": [
        "!pip install ipython-autotime\n",
        "\n",
        "%load_ext autotime\n",
        "%tensorflow_version 2.x\n",
        "%matplotlib inline\n",
        "%reload_ext tensorboard\n",
        "\n",
        "import tensorflow as tf\n",
        "print(tf.__version__)"
      ],
      "execution_count": null,
      "outputs": [
        {
          "output_type": "stream",
          "text": [
            "Collecting ipython-autotime\n",
            "  Downloading https://files.pythonhosted.org/packages/b4/c9/b413a24f759641bc27ef98c144b590023c8038dfb8a3f09e713e9dff12c1/ipython_autotime-0.3.1-py2.py3-none-any.whl\n",
            "Requirement already satisfied: ipython in /usr/local/lib/python3.7/dist-packages (from ipython-autotime) (5.5.0)\n",
            "Requirement already satisfied: simplegeneric>0.8 in /usr/local/lib/python3.7/dist-packages (from ipython->ipython-autotime) (0.8.1)\n",
            "Requirement already satisfied: pickleshare in /usr/local/lib/python3.7/dist-packages (from ipython->ipython-autotime) (0.7.5)\n",
            "Requirement already satisfied: pexpect; sys_platform != \"win32\" in /usr/local/lib/python3.7/dist-packages (from ipython->ipython-autotime) (4.8.0)\n",
            "Requirement already satisfied: pygments in /usr/local/lib/python3.7/dist-packages (from ipython->ipython-autotime) (2.6.1)\n",
            "Requirement already satisfied: prompt-toolkit<2.0.0,>=1.0.4 in /usr/local/lib/python3.7/dist-packages (from ipython->ipython-autotime) (1.0.18)\n",
            "Requirement already satisfied: traitlets>=4.2 in /usr/local/lib/python3.7/dist-packages (from ipython->ipython-autotime) (5.0.5)\n",
            "Requirement already satisfied: decorator in /usr/local/lib/python3.7/dist-packages (from ipython->ipython-autotime) (4.4.2)\n",
            "Requirement already satisfied: setuptools>=18.5 in /usr/local/lib/python3.7/dist-packages (from ipython->ipython-autotime) (54.2.0)\n",
            "Requirement already satisfied: ptyprocess>=0.5 in /usr/local/lib/python3.7/dist-packages (from pexpect; sys_platform != \"win32\"->ipython->ipython-autotime) (0.7.0)\n",
            "Requirement already satisfied: six>=1.9.0 in /usr/local/lib/python3.7/dist-packages (from prompt-toolkit<2.0.0,>=1.0.4->ipython->ipython-autotime) (1.15.0)\n",
            "Requirement already satisfied: wcwidth in /usr/local/lib/python3.7/dist-packages (from prompt-toolkit<2.0.0,>=1.0.4->ipython->ipython-autotime) (0.2.5)\n",
            "Requirement already satisfied: ipython-genutils in /usr/local/lib/python3.7/dist-packages (from traitlets>=4.2->ipython->ipython-autotime) (0.2.0)\n",
            "Installing collected packages: ipython-autotime\n",
            "Successfully installed ipython-autotime-0.3.1\n",
            "2.4.1\n",
            "time: 2.19 s (started: 2021-04-17 04:51:48 +00:00)\n"
          ],
          "name": "stdout"
        }
      ]
    },
    {
      "cell_type": "code",
      "metadata": {
        "id": "U_qNI3zAxv56"
      },
      "source": [
        "try:\n",
        "    tpu = tf.distribute.cluster_resolver.TPUClusterResolver()  # TPU detection\n",
        "    print('Running on TPU ', tpu.cluster_spec().as_dict()['worker'])\n",
        "except ValueError:\n",
        "    raise BaseException('ERROR: Not connected to a TPU runtime; please see the previous cell in this notebook for instructions!')"
      ],
      "execution_count": null,
      "outputs": []
    },
    {
      "cell_type": "code",
      "metadata": {
        "id": "yb9lGCIPixmM"
      },
      "source": [
        "import tensorflow as tf\n",
        "from tensorflow.keras.models import Model, Sequential\n",
        "from tensorflow.keras import models\n",
        "from tensorflow.keras import layers\n",
        "from tensorflow.keras.layers import *\n",
        "from tensorflow.keras.callbacks import ModelCheckpoint, EarlyStopping\n",
        "from tensorflow.keras import regularizers, optimizers\n",
        "from tensorflow.keras.optimizers import SGD, Adam\n",
        "from tensorflow.keras.preprocessing import image\n",
        "from tensorflow.keras.preprocessing.image import ImageDataGenerator\n",
        "\n",
        "import torch\n",
        "import os\n",
        "import cv2 as cv\n",
        "import numpy as np\n",
        "import pandas as pd\n",
        "import random\n",
        "\n",
        "from sklearn.model_selection import train_test_split\n",
        "from sklearn.utils.validation import column_or_1d\n",
        "from sklearn.metrics import accuracy_score"
      ],
      "execution_count": null,
      "outputs": []
    },
    {
      "cell_type": "code",
      "metadata": {
        "id": "JqQa-KFk0edw",
        "colab": {
          "base_uri": "https://localhost:8080/"
        },
        "outputId": "33b0f4a1-5cd5-4d53-ed59-ef328f3f298e"
      },
      "source": [
        "from google.colab import drive\n",
        "drive.mount('/content/drive/')"
      ],
      "execution_count": null,
      "outputs": [
        {
          "output_type": "stream",
          "text": [
            "Mounted at /content/drive/\n"
          ],
          "name": "stdout"
        }
      ]
    },
    {
      "cell_type": "markdown",
      "metadata": {
        "id": "q9LHarOlAynV"
      },
      "source": [
        "**DataLoader**"
      ]
    },
    {
      "cell_type": "code",
      "metadata": {
        "id": "UQOQvuPyi7Hq",
        "colab": {
          "base_uri": "https://localhost:8080/"
        },
        "outputId": "ebbf3388-6a38-4b5e-d4cd-9c4dfb9b9c7c"
      },
      "source": [
        "# configs\n",
        "MODELS_FOLDER = '/content/drive/My Drive/df/models'\n",
        "BASE_FOLDER = '/content/drive/My Drive/df'\n",
        "TRAIN_SAMPLE_VIDEOS = 'train_sample_videos'\n",
        "TRAIN_INPUT = 'input'\n",
        "TEST_VIDEOS = 'test_videos'\n",
        "TRAIN_FRAMES_FOLDER = 'train_frames'\n",
        "VALID_FRAMES_FOLDER = 'valid_frames'\n",
        "TEST_FRAMES_FOLDER = 'test_frames'\n",
        "DATA_FOLDER = 'data'\n",
        "TRAIN_FOLDER = 'train'\n",
        "VALID_FOLDER = 'valid'\n",
        "TEST_FOLDER = 'test'\n",
        "TRAIN_FACE = 'train_face'\n",
        "VALID_FACE = 'valid_face'\n",
        "METADATA = 'metadata'\n",
        "INPUT_SHAPE = (299, 299)   #(224,224) for DenseNet\n",
        "BATCH_SIZE = 32\n",
        "\n",
        "SEED = 1\n",
        "random.seed(SEED)\n",
        "torch.manual_seed(SEED)"
      ],
      "execution_count": null,
      "outputs": [
        {
          "output_type": "execute_result",
          "data": {
            "text/plain": [
              "<torch._C.Generator at 0x7efca7120df0>"
            ]
          },
          "metadata": {
            "tags": []
          },
          "execution_count": 3
        }
      ]
    },
    {
      "cell_type": "code",
      "metadata": {
        "id": "VBNj_rmmyOaR",
        "colab": {
          "base_uri": "https://localhost:8080/"
        },
        "outputId": "7dbe8ae5-79f6-4592-b359-56a30a2e858f"
      },
      "source": [
        "from tensorflow.keras.preprocessing.image import ImageDataGenerator\n",
        "train_datagen = ImageDataGenerator(rescale=1./255,\n",
        "                                   rotation_range=20,\n",
        "                                   zoom_range=0.15,\n",
        "                                   width_shift_range=0.2,\n",
        "                                   height_shift_range=0.2,\n",
        "                                   shear_range=0.15,\n",
        "                                   horizontal_flip=True,\n",
        "                                   fill_mode=\"nearest\")\n",
        "valid_datagen = ImageDataGenerator(rescale=1./255)\n",
        "\n",
        "train_dir = os.path.join(BASE_FOLDER, DATA_FOLDER, TRAIN_FACE)\n",
        "valid_dir = os.path.join(BASE_FOLDER, DATA_FOLDER, VALID_FACE)\n",
        "\n",
        "train_generator = train_datagen.flow_from_directory(\n",
        "    train_dir,\n",
        "    target_size=INPUT_SHAPE,\n",
        "    batch_size=BATCH_SIZE,\n",
        "    classes=['REAL', 'FAKE'],\n",
        "    class_mode='binary',\n",
        "    seed= SEED)\n",
        "\n",
        "valid_generator = valid_datagen.flow_from_directory(\n",
        "    valid_dir,\n",
        "    target_size=INPUT_SHAPE,\n",
        "    batch_size=BATCH_SIZE,\n",
        "    classes=['REAL', 'FAKE'],\n",
        "    class_mode='binary',\n",
        "    seed= SEED)"
      ],
      "execution_count": null,
      "outputs": [
        {
          "output_type": "stream",
          "text": [
            "Found 12000 images belonging to 2 classes.\n",
            "Found 6996 images belonging to 2 classes.\n"
          ],
          "name": "stdout"
        }
      ]
    },
    {
      "cell_type": "code",
      "metadata": {
        "id": "_nMrbSeg_GfK",
        "colab": {
          "base_uri": "https://localhost:8080/"
        },
        "outputId": "489f7259-5e08-443c-85ec-237f3f373249"
      },
      "source": [
        "print(f\"Total REAL train: {len(os.listdir(os.path.join(BASE_FOLDER, DATA_FOLDER, TRAIN_FACE, 'REAL')))}\")\n",
        "print(f\"Total FAKE train: {len(os.listdir(os.path.join(BASE_FOLDER, DATA_FOLDER, TRAIN_FACE, 'FAKE')))}\")\n",
        "print(f\"Total REAL valid: {len(os.listdir(os.path.join(BASE_FOLDER, DATA_FOLDER, VALID_FACE, 'REAL')))}\")\n",
        "print(f\"Total FAKE valid: {len(os.listdir(os.path.join(BASE_FOLDER, DATA_FOLDER, VALID_FACE, 'FAKE')))}\")"
      ],
      "execution_count": null,
      "outputs": [
        {
          "output_type": "stream",
          "text": [
            "Total REAL train: 6000\n",
            "Total FAKE train: 6000\n",
            "Total REAL valid: 999\n",
            "Total FAKE valid: 5997\n"
          ],
          "name": "stdout"
        }
      ]
    },
    {
      "cell_type": "code",
      "metadata": {
        "id": "Li2kxwgDrstq",
        "colab": {
          "base_uri": "https://localhost:8080/"
        },
        "outputId": "593a731a-3193-422a-f28f-ff52ead0e689"
      },
      "source": [
        "valid_generator.class_indices"
      ],
      "execution_count": null,
      "outputs": [
        {
          "output_type": "execute_result",
          "data": {
            "text/plain": [
              "{'FAKE': 1, 'REAL': 0}"
            ]
          },
          "metadata": {
            "tags": []
          },
          "execution_count": 7
        },
        {
          "output_type": "stream",
          "text": [
            "time: 4.82 ms (started: 2021-03-16 10:47:10 +00:00)\n"
          ],
          "name": "stdout"
        }
      ]
    },
    {
      "cell_type": "markdown",
      "metadata": {
        "id": "w7nRf0UP_PTB"
      },
      "source": [
        "# Model"
      ]
    },
    {
      "cell_type": "markdown",
      "metadata": {
        "id": "-Ob6nfZZ4_V5"
      },
      "source": [
        "# XceptionNet"
      ]
    },
    {
      "cell_type": "code",
      "metadata": {
        "id": "nj_O06BL_XdH",
        "colab": {
          "base_uri": "https://localhost:8080/"
        },
        "outputId": "761430d0-6500-4308-f8eb-53925b2dd9b7"
      },
      "source": [
        "from tensorflow.keras.applications.xception import Xception, preprocess_input, decode_predictions\n",
        "\n",
        "base_model = Xception(include_top=False, weights=\"imagenet\")\n",
        "base_model.trainable = False"
      ],
      "execution_count": null,
      "outputs": [
        {
          "output_type": "stream",
          "text": [
            "Downloading data from https://storage.googleapis.com/tensorflow/keras-applications/xception/xception_weights_tf_dim_ordering_tf_kernels_notop.h5\n",
            "83689472/83683744 [==============================] - 1s 0us/step\n",
            "time: 2.45 s (started: 2021-03-11 07:04:29 +00:00)\n"
          ],
          "name": "stdout"
        }
      ]
    },
    {
      "cell_type": "code",
      "metadata": {
        "id": "Y3DdSlUk7Waw",
        "colab": {
          "base_uri": "https://localhost:8080/"
        },
        "outputId": "50ebc917-6988-4bf6-b5da-6e041005af2a"
      },
      "source": [
        "inputs= Input(shape=(None,None,None))"
      ],
      "execution_count": null,
      "outputs": [
        {
          "output_type": "stream",
          "text": [
            "time: 7.57 ms (started: 2021-03-11 07:56:49 +00:00)\n"
          ],
          "name": "stdout"
        }
      ]
    },
    {
      "cell_type": "markdown",
      "metadata": {
        "id": "twDh4Lml_yPG"
      },
      "source": [
        "**Attention Model**"
      ]
    },
    {
      "cell_type": "code",
      "metadata": {
        "id": "jroZERs9_u-4"
      },
      "source": [
        "pt_features = Input(base_model.get_output_shape_at(0)[1:], name='feature_input')\n",
        "pt_depth = base_model.get_output_shape_at(0)[-1]"
      ],
      "execution_count": null,
      "outputs": []
    },
    {
      "cell_type": "code",
      "metadata": {
        "id": "lVnTU2i9AsPK"
      },
      "source": [
        "bn_features = BatchNormalization()(pt_features)"
      ],
      "execution_count": null,
      "outputs": []
    },
    {
      "cell_type": "code",
      "metadata": {
        "id": "HSMiVXedAye4",
        "colab": {
          "base_uri": "https://localhost:8080/"
        },
        "outputId": "b8fcdbf2-6c1a-46f0-d55f-edee651d2c5a"
      },
      "source": [
        "attn_layer = Conv2D(128, kernel_size=(1,1), padding='same', activation = 'elu')(bn_features)\n",
        "attn_layer = Conv2D(32, kernel_size=(1,1), padding='same', activation = 'elu')(attn_layer)\n",
        "attn_layer = Conv2D(16, kernel_size=(1,1), padding='same', activation = 'elu')(attn_layer)\n",
        "attn_layer = AvgPool2D((2,2), strides=(1,1), padding='same')(attn_layer)\n",
        "attn_layer = Conv2D(1, kernel_size=(1,1), padding='valid', activation = 'sigmoid')(attn_layer)"
      ],
      "execution_count": null,
      "outputs": [
        {
          "output_type": "stream",
          "text": [
            "time: 39.1 ms\n"
          ],
          "name": "stdout"
        }
      ]
    },
    {
      "cell_type": "code",
      "metadata": {
        "id": "5NcEEqn2A56O",
        "colab": {
          "base_uri": "https://localhost:8080/"
        },
        "outputId": "9c21966c-4396-48c2-b441-5e50c4a4ef2e"
      },
      "source": [
        "up_c2_w = np.ones((1, 1, 1, pt_depth))\n",
        "up_c2 = Conv2D(pt_depth, kernel_size = (1,1), padding = 'same', \n",
        "               activation = 'linear', use_bias = False, weights = [up_c2_w])\n",
        "up_c2.trainable = False\n",
        "attn_layer = up_c2(attn_layer)"
      ],
      "execution_count": null,
      "outputs": [
        {
          "output_type": "stream",
          "text": [
            "time: 14.3 ms\n"
          ],
          "name": "stdout"
        }
      ]
    },
    {
      "cell_type": "code",
      "metadata": {
        "id": "1e7nhq_UBLJk",
        "colab": {
          "base_uri": "https://localhost:8080/"
        },
        "outputId": "79933a96-7bd6-4542-e589-a0acc1495e9b"
      },
      "source": [
        "mask_features = multiply([attn_layer, bn_features])"
      ],
      "execution_count": null,
      "outputs": [
        {
          "output_type": "stream",
          "text": [
            "time: 3.31 ms\n"
          ],
          "name": "stdout"
        }
      ]
    },
    {
      "cell_type": "code",
      "metadata": {
        "id": "FMu5FLWSBOT3",
        "colab": {
          "base_uri": "https://localhost:8080/"
        },
        "outputId": "412888df-82f7-4e2d-f4fa-c9c6d4fef6de"
      },
      "source": [
        "gap_features = GlobalAveragePooling2D()(mask_features)\n",
        "gap_mask = GlobalAveragePooling2D()(attn_layer)\n",
        "\n",
        "gap = Lambda(lambda x: x[0]/x[1], name = 'RescaleGAP')([gap_features, gap_mask])\n",
        "gap_dr = Dropout(0.5)(gap)\n",
        "gap_features1 = GlobalAveragePooling2D()(mask_features)\n",
        "gap_mask1 = GlobalAveragePooling2D()(attn_layer)\n",
        "\n",
        "gap1 = Lambda(lambda x: x[0]/x[1], name = 'RescaleGAP')([gap_features1, gap_mask1])\n",
        "gap_dr1 = Dropout(0.5)(gap1)\n",
        "gap_features2 = GlobalAveragePooling2D()(mask_features)\n",
        "gap_mask2 = GlobalAveragePooling2D()(attn_layer)\n",
        "gap2 = Lambda(lambda x: x[0]/x[1], name = 'RescaleGAP')([gap_features2, gap_mask2])\n",
        "gap_dr2 = Dropout(0.5)(gap2)"
      ],
      "execution_count": null,
      "outputs": [
        {
          "output_type": "stream",
          "text": [
            "time: 46.2 ms\n"
          ],
          "name": "stdout"
        }
      ]
    },
    {
      "cell_type": "code",
      "metadata": {
        "id": "8SaYqYc0BwRs",
        "colab": {
          "base_uri": "https://localhost:8080/",
          "height": 255
        },
        "outputId": "47a1f0d8-80fd-4cd0-abf3-12616f772cd1"
      },
      "source": [
        "model = Sequential(name='combined_model')\n",
        "model.add(base_model)\n",
        "model.add(attn_model)\n",
        "model.compile(optimizer = Adam(lr = 1e-3, beta_1=0.9, beta_2 = 0.999, epsilon = None, decay = 0.0, amsgrad = True),\n",
        "              loss = 'binary_crossentropy', metrics = ['binary_accuracy'])\n",
        "model.summary()\n",
        "\n",
        "Model: \"combined_model\""
      ],
      "execution_count": null,
      "outputs": [
        {
          "output_type": "error",
          "ename": "NameError",
          "evalue": "ignored",
          "traceback": [
            "\u001b[0;31m---------------------------------------------------------------------------\u001b[0m",
            "\u001b[0;31mNameError\u001b[0m                                 Traceback (most recent call last)",
            "\u001b[0;32m<ipython-input-5-81c130c0b805>\u001b[0m in \u001b[0;36m<module>\u001b[0;34m()\u001b[0m\n\u001b[1;32m      1\u001b[0m \u001b[0mmodel\u001b[0m \u001b[0;34m=\u001b[0m \u001b[0mSequential\u001b[0m\u001b[0;34m(\u001b[0m\u001b[0mname\u001b[0m\u001b[0;34m=\u001b[0m\u001b[0;34m'combined_model'\u001b[0m\u001b[0;34m)\u001b[0m\u001b[0;34m\u001b[0m\u001b[0;34m\u001b[0m\u001b[0m\n\u001b[0;32m----> 2\u001b[0;31m \u001b[0mmodel\u001b[0m\u001b[0;34m.\u001b[0m\u001b[0madd\u001b[0m\u001b[0;34m(\u001b[0m\u001b[0mbase_model\u001b[0m\u001b[0;34m)\u001b[0m\u001b[0;34m\u001b[0m\u001b[0;34m\u001b[0m\u001b[0m\n\u001b[0m\u001b[1;32m      3\u001b[0m \u001b[0mmodel\u001b[0m\u001b[0;34m.\u001b[0m\u001b[0madd\u001b[0m\u001b[0;34m(\u001b[0m\u001b[0mattn_model\u001b[0m\u001b[0;34m)\u001b[0m\u001b[0;34m\u001b[0m\u001b[0;34m\u001b[0m\u001b[0m\n\u001b[1;32m      4\u001b[0m model.compile(optimizer = Adam(lr = 1e-3, beta_1=0.9, beta_2 = 0.999, epsilon = None, decay = 0.0, amsgrad = True),\n\u001b[1;32m      5\u001b[0m               loss = 'binary_crossentropy', metrics = ['binary_accuracy'])\n",
            "\u001b[0;31mNameError\u001b[0m: name 'base_model' is not defined"
          ]
        },
        {
          "output_type": "stream",
          "text": [
            "time: 354 ms (started: 2021-04-17 04:56:38 +00:00)\n"
          ],
          "name": "stdout"
        }
      ]
    },
    {
      "cell_type": "code",
      "metadata": {
        "id": "WC_Ggel9B0WN",
        "colab": {
          "base_uri": "https://localhost:8080/"
        },
        "outputId": "e68582ed-60ce-4f9a-825c-b815e2babcbb"
      },
      "source": [
        "# checkpoint callback\n",
        "CHECKPOINT = \"weights-improvement4-{epoch:01d}.h5\"\n",
        "weights_path = os.path.join(MODELS_FOLDER, CHECKPOINT)\n",
        "\n",
        "from tensorflow.keras.callbacks import ModelCheckpoint\n",
        "ckp_loss = ModelCheckpoint(weights_path, save_best_only=True, verbose=1, \n",
        "                      monitor='val_loss', mode='min')\n",
        "ckp_accu = ModelCheckpoint(weights_path, save_best_only=True, verbose=1, \n",
        "                      monitor='val_binary_accuracy', mode='max')"
      ],
      "execution_count": null,
      "outputs": [
        {
          "output_type": "stream",
          "text": [
            "time: 4.91 ms (started: 2021-03-16 10:47:12 +00:00)\n"
          ],
          "name": "stdout"
        }
      ]
    },
    {
      "cell_type": "code",
      "metadata": {
        "id": "EoiFGvgJB5vP",
        "colab": {
          "base_uri": "https://localhost:8080/"
        },
        "outputId": "dfc90d56-4af3-48c1-dc51-eaabbb628dac"
      },
      "source": [
        "# early stopping callback\n",
        "from tensorflow.keras.callbacks import EarlyStopping\n",
        "early_stopping_cb = EarlyStopping(patience=3, restore_best_weights=True)"
      ],
      "execution_count": null,
      "outputs": [
        {
          "output_type": "stream",
          "text": [
            "time: 1.68 ms (started: 2021-03-16 10:47:14 +00:00)\n"
          ],
          "name": "stdout"
        }
      ]
    },
    {
      "cell_type": "code",
      "metadata": {
        "id": "Z3RIg99-B_B7",
        "colab": {
          "base_uri": "https://localhost:8080/"
        },
        "outputId": "9ac19a09-1046-4517-c628-8b080d96cbd1"
      },
      "source": [
        "# tensorboard callback\n",
        "from tensorflow.keras.callbacks import TensorBoard\n",
        "\n",
        "def get_run_logdir(rootlogdir):\n",
        "    import time\n",
        "    run_id = time.strftime(\"run_%Y_%m_%d-%H_%M_%S\")\n",
        "    return os.path.join(rootlogdir, run_id)\n",
        "\n",
        "root_logdir = os.path.join(BASE_FOLDER, 'logs')\n",
        "run_logdir = get_run_logdir(root_logdir)\n",
        "tensorboard_cb = TensorBoard(run_logdir)\n",
        "print(run_logdir)"
      ],
      "execution_count": null,
      "outputs": [
        {
          "output_type": "stream",
          "text": [
            "/content/drive/My Drive/df/logs/run_2021_03_16-10_47_17\n",
            "time: 119 ms (started: 2021-03-16 10:47:17 +00:00)\n"
          ],
          "name": "stdout"
        }
      ]
    },
    {
      "cell_type": "code",
      "metadata": {
        "id": "j5ynW9fRCUkm",
        "colab": {
          "base_uri": "https://localhost:8080/"
        },
        "outputId": "5f65cd94-3173-47cb-89fb-23ef6b61999a"
      },
      "source": [
        "history = model.fit(\n",
        "    train_generator,\n",
        "    steps_per_epoch=train_generator.samples//BATCH_SIZE,\n",
        "    epochs=5,\n",
        "    validation_data=valid_generator,\n",
        "    validation_steps=valid_generator.samples//BATCH_SIZE,\n",
        "    callbacks=[ckp_loss, ckp_accu, tensorboard_cb, early_stopping_cb])"
      ],
      "execution_count": null,
      "outputs": [
        {
          "output_type": "stream",
          "text": [
            "Epoch 1/5\n",
            "375/375 [==============================] - 7701s 21s/step - loss: 0.4438 - binary_accuracy: 0.7929 - val_loss: 0.6239 - val_binary_accuracy: 0.6957\n",
            "\n",
            "Epoch 00001: val_loss improved from inf to 0.62390, saving model to /content/drive/My Drive/df/models/weights-improvement3-1.h5\n",
            "\n",
            "Epoch 00001: val_binary_accuracy improved from -inf to 0.69567, saving model to /content/drive/My Drive/df/models/weights-improvement3-1.h5\n",
            "Epoch 2/5\n",
            "375/375 [==============================] - 7733s 21s/step - loss: 0.4433 - binary_accuracy: 0.7878 - val_loss: 0.6261 - val_binary_accuracy: 0.7028\n",
            "\n",
            "Epoch 00002: val_loss did not improve from 0.62390\n",
            "\n",
            "Epoch 00002: val_binary_accuracy improved from 0.69567 to 0.70284, saving model to /content/drive/My Drive/df/models/weights-improvement3-2.h5\n",
            "Epoch 3/5\n",
            "375/375 [==============================] - 7739s 21s/step - loss: 0.4418 - binary_accuracy: 0.7906 - val_loss: 0.6067 - val_binary_accuracy: 0.7165\n",
            "\n",
            "Epoch 00003: val_loss improved from 0.62390 to 0.60670, saving model to /content/drive/My Drive/df/models/weights-improvement3-3.h5\n",
            "\n",
            "Epoch 00003: val_binary_accuracy improved from 0.70284 to 0.71646, saving model to /content/drive/My Drive/df/models/weights-improvement3-3.h5\n",
            "Epoch 4/5\n",
            "375/375 [==============================] - 7727s 21s/step - loss: 0.4307 - binary_accuracy: 0.7983 - val_loss: 0.6231 - val_binary_accuracy: 0.6970\n",
            "\n",
            "Epoch 00004: val_loss did not improve from 0.60670\n",
            "\n",
            "Epoch 00004: val_binary_accuracy did not improve from 0.71646\n",
            "Epoch 5/5\n",
            "375/375 [==============================] - 7777s 21s/step - loss: 0.4345 - binary_accuracy: 0.7977 - val_loss: 0.5821 - val_binary_accuracy: 0.7089\n",
            "\n",
            "Epoch 00005: val_loss improved from 0.60670 to 0.58210, saving model to /content/drive/My Drive/df/models/weights-improvement3-5.h5\n",
            "\n",
            "Epoch 00005: val_binary_accuracy did not improve from 0.71646\n",
            "time: 10h 44min 52s (started: 2021-03-13 06:38:21 +00:00)\n"
          ],
          "name": "stdout"
        }
      ]
    },
    {
      "cell_type": "code",
      "metadata": {
        "colab": {
          "base_uri": "https://localhost:8080/"
        },
        "id": "0IiVLsNVwkWI",
        "outputId": "43a9dd15-92ec-43f7-f81f-27edd5621c85"
      },
      "source": [
        "model.save('/content/drive/My Drive/df/XceptionLatest.h5')\n",
        "model.save_weights('/content/drive/My Drive/df/weightsLatest.h5')"
      ],
      "execution_count": null,
      "outputs": [
        {
          "output_type": "stream",
          "text": [
            "time: 740 ms (started: 2021-03-16 19:30:50 +00:00)\n"
          ],
          "name": "stdout"
        }
      ]
    },
    {
      "cell_type": "code",
      "metadata": {
        "id": "pFe6yoPcEG2i",
        "colab": {
          "base_uri": "https://localhost:8080/"
        },
        "outputId": "f22d7f96-8130-473f-c331-dcf306c47dab"
      },
      "source": [
        "model = models.load_model('/content/drive/My Drive/df/XceptionLatest.h5')\n",
        "model.summary()\n",
        "model.load_weights('/content/drive/My Drive/df/weightsLatest.h5')"
      ],
      "execution_count": null,
      "outputs": [
        {
          "output_type": "stream",
          "text": [
            "Model: \"combined_model\"\n",
            "_________________________________________________________________\n",
            "Layer (type)                 Output Shape              Param #   \n",
            "=================================================================\n",
            "xception (Functional)        (None, None, None, 2048)  20861480  \n",
            "_________________________________________________________________\n",
            "attention_model (Functional) (None, 1)                 539586    \n",
            "=================================================================\n",
            "Total params: 21,401,066\n",
            "Trainable params: 533,442\n",
            "Non-trainable params: 20,867,624\n",
            "_________________________________________________________________\n",
            "time: 5.86 s (started: 2021-04-17 04:56:08 +00:00)\n"
          ],
          "name": "stdout"
        }
      ]
    },
    {
      "cell_type": "code",
      "metadata": {
        "id": "z6zlDxxO5Ezw",
        "colab": {
          "base_uri": "https://localhost:8080/"
        },
        "outputId": "7ed86ba2-daf5-44c9-a6b0-07ab1fc81916"
      },
      "source": [
        "history = model.fit(\n",
        "    train_generator,\n",
        "    steps_per_epoch=train_generator.samples//BATCH_SIZE,\n",
        "    epochs=5,\n",
        "    validation_data=valid_generator,\n",
        "    validation_steps=valid_generator.samples//BATCH_SIZE,\n",
        "    callbacks=[ckp_loss, ckp_accu, tensorboard_cb, early_stopping_cb])"
      ],
      "execution_count": null,
      "outputs": [
        {
          "output_type": "stream",
          "text": [
            "Epoch 1/5\n",
            "375/375 [==============================] - 7705s 21s/step - loss: 0.4128 - binary_accuracy: 0.8060 - val_loss: 0.5756 - val_binary_accuracy: 0.7013\n",
            "\n",
            "Epoch 00001: val_loss improved from inf to 0.57562, saving model to /content/drive/My Drive/df/models/weights-improvement4-1.h5\n",
            "\n",
            "Epoch 00001: val_binary_accuracy improved from -inf to 0.70126, saving model to /content/drive/My Drive/df/models/weights-improvement4-1.h5\n",
            "Epoch 2/5\n",
            "375/375 [==============================] - 7622s 20s/step - loss: 0.4101 - binary_accuracy: 0.8043 - val_loss: 0.6149 - val_binary_accuracy: 0.6965\n",
            "\n",
            "Epoch 00002: val_loss did not improve from 0.57562\n",
            "\n",
            "Epoch 00002: val_binary_accuracy did not improve from 0.70126\n",
            "Epoch 3/5\n",
            "375/375 [==============================] - 7618s 20s/step - loss: 0.4054 - binary_accuracy: 0.8088 - val_loss: 0.5887 - val_binary_accuracy: 0.7196\n",
            "\n",
            "Epoch 00003: val_loss did not improve from 0.57562\n",
            "\n",
            "Epoch 00003: val_binary_accuracy improved from 0.70126 to 0.71961, saving model to /content/drive/My Drive/df/models/weights-improvement4-3.h5\n",
            "Epoch 4/5\n",
            "375/375 [==============================] - 7880s 21s/step - loss: 0.4014 - binary_accuracy: 0.8075 - val_loss: 0.6065 - val_binary_accuracy: 0.7050\n",
            "\n",
            "Epoch 00004: val_loss did not improve from 0.57562\n",
            "\n",
            "Epoch 00004: val_binary_accuracy did not improve from 0.71961\n",
            "time: 8h 34min (started: 2021-03-16 10:47:34 +00:00)\n"
          ],
          "name": "stdout"
        }
      ]
    },
    {
      "cell_type": "code",
      "metadata": {
        "id": "QoysGZNFUymy",
        "colab": {
          "base_uri": "https://localhost:8080/"
        },
        "outputId": "68f4493a-00a0-4381-f4aa-ada4add9bf42"
      },
      "source": [
        "print(history.history.keys())"
      ],
      "execution_count": null,
      "outputs": [
        {
          "output_type": "stream",
          "text": [
            "dict_keys(['loss', 'binary_accuracy', 'val_loss', 'val_binary_accuracy'])\n",
            "time: 2.67 ms (started: 2021-03-16 19:27:35 +00:00)\n"
          ],
          "name": "stdout"
        }
      ]
    },
    {
      "cell_type": "code",
      "metadata": {
        "colab": {
          "base_uri": "https://localhost:8080/"
        },
        "id": "I6My4x_lj-AT",
        "outputId": "fa673169-35ad-420c-e08c-1ab070db21b6"
      },
      "source": [
        "hist_df = pd.DataFrame(history.history) \n",
        "\n",
        "# save to json:  \n",
        "hist_json_file = '/content/drive/My Drive/df/history.json' \n",
        "with open(hist_json_file, mode='w') as f:\n",
        "    hist_df.to_json(f)\n",
        "\n",
        "# or save to csv: \n",
        "hist_csv_file = '/content/drive/My Drive/df/history.csv'\n",
        "with open(hist_csv_file, mode='w') as f:\n",
        "    hist_df.to_csv(f)"
      ],
      "execution_count": null,
      "outputs": [
        {
          "output_type": "stream",
          "text": [
            "time: 22.8 ms (started: 2021-03-16 19:40:34 +00:00)\n"
          ],
          "name": "stdout"
        }
      ]
    },
    {
      "cell_type": "code",
      "metadata": {
        "id": "y3z931XkUrPp",
        "colab": {
          "base_uri": "https://localhost:8080/",
          "height": 313
        },
        "outputId": "fac8f35f-426f-4318-f963-860a6bee3669"
      },
      "source": [
        "import matplotlib.pyplot as plt\n",
        "\n",
        "loss_train = history.history['loss']\n",
        "loss_val = history.history['val_loss']\n",
        "epochs = range(1,5)\n",
        "plt.plot(epochs, loss_train, 'g', label='Training loss')\n",
        "plt.plot(epochs, loss_val, 'b', label='Validation loss')\n",
        "plt.title('Training and Validation loss')\n",
        "plt.xlabel('Epochs')\n",
        "plt.ylabel('Loss')\n",
        "plt.legend()\n",
        "plt.show()"
      ],
      "execution_count": null,
      "outputs": [
        {
          "output_type": "display_data",
          "data": {
            "image/png": "[encoded data removed]",
            "text/plain": [
              "<Figure size 432x288 with 1 Axes>"
            ]
          },
          "metadata": {
            "tags": [],
            "needs_background": "light"
          }
        },
        {
          "output_type": "stream",
          "text": [
            "time: 198 ms (started: 2021-03-16 19:44:44 +00:00)\n"
          ],
          "name": "stdout"
        }
      ]
    },
    {
      "cell_type": "code",
      "metadata": {
        "id": "qks9DmgMUvje",
        "colab": {
          "base_uri": "https://localhost:8080/",
          "height": 313
        },
        "outputId": "09ab7538-9d76-4c36-ff74-6afc5759c0a1"
      },
      "source": [
        "loss_train = history.history['binary_accuracy']\n",
        "loss_val = history.history['val_binary_accuracy']\n",
        "epochs = range(1,5)\n",
        "plt.plot(epochs, loss_train, 'g', label='Training accuracy')\n",
        "plt.plot(epochs, loss_val, 'b', label='Validation accuracy')\n",
        "plt.title('Training and Validation accuracy')\n",
        "plt.xlabel('Epochs')\n",
        "plt.ylabel('Accuracy')\n",
        "plt.legend()\n",
        "plt.show()"
      ],
      "execution_count": null,
      "outputs": [
        {
          "output_type": "display_data",
          "data": {
            "image/png": "[encoded data removed]",
            "text/plain": [
              "<Figure size 432x288 with 1 Axes>"
            ]
          },
          "metadata": {
            "tags": [],
            "needs_background": "light"
          }
        },
        {
          "output_type": "stream",
          "text": [
            "time: 197 ms (started: 2021-03-16 19:44:53 +00:00)\n"
          ],
          "name": "stdout"
        }
      ]
    },
    {
      "cell_type": "markdown",
      "metadata": {
        "id": "Wv4sFqPn2q2J"
      },
      "source": [
        "# DenseNet\n",
        "\n",
        "---\n",
        "\n"
      ]
    },
    {
      "cell_type": "code",
      "metadata": {
        "id": "YvHg77t56f3S",
        "colab": {
          "base_uri": "https://localhost:8080/"
        },
        "outputId": "558abc21-e1a4-4e60-86df-0312ff705530"
      },
      "source": [
        "import numpy as np\n",
        "import cv2\n",
        "import pandas as pd\n",
        "from tqdm.notebook import tqdm \n",
        "from sklearn.model_selection import train_test_split\n",
        "from tensorflow.keras.preprocessing.image import ImageDataGenerator\n",
        "from tensorflow.keras import layers\n",
        "from tensorflow.keras.applications import DenseNet121\n",
        "from tensorflow.keras.callbacks import Callback, ModelCheckpoint\n",
        "from tensorflow.keras.models import Sequential\n",
        "from tensorflow.keras.optimizers import Adam\n",
        "import os"
      ],
      "execution_count": null,
      "outputs": [
        {
          "output_type": "stream",
          "text": [
            "time: 6.77 ms (started: 2021-03-18 03:00:09 +00:00)\n"
          ],
          "name": "stdout"
        }
      ]
    },
    {
      "cell_type": "code",
      "metadata": {
        "colab": {
          "base_uri": "https://localhost:8080/"
        },
        "id": "rKjpVTwW6uwI",
        "outputId": "44db70a1-e5ef-4898-ec1e-58ee85481eab"
      },
      "source": [
        "# configs\n",
        "MODELS_FOLDER = '/content/drive/My Drive/df/models'\n",
        "BASE_FOLDER = '/content/drive/My Drive/df'\n",
        "TRAIN_SAMPLE_VIDEOS = 'train_sample_videos'\n",
        "TRAIN_INPUT = 'input'\n",
        "TEST_VIDEOS = 'test_videos'\n",
        "TRAIN_FRAMES_FOLDER = 'train_frames'\n",
        "VALID_FRAMES_FOLDER = 'valid_frames'\n",
        "TEST_FRAMES_FOLDER = 'test_frames'\n",
        "DATA_FOLDER = 'data'\n",
        "TRAIN_FOLDER = 'train'\n",
        "VALID_FOLDER = 'valid'\n",
        "TEST_FOLDER = 'test'\n",
        "TRAIN_FACE = 'train_face'\n",
        "VALID_FACE = 'valid_face'\n",
        "METADATA = 'metadata'\n",
        "INPUT_SHAPE = (224, 224) \n",
        "BATCH_SIZE = 32\n",
        "\n",
        "SEED = 1\n",
        "random.seed(SEED)\n",
        "torch.manual_seed(SEED)"
      ],
      "execution_count": null,
      "outputs": [
        {
          "output_type": "execute_result",
          "data": {
            "text/plain": [
              "<torch._C.Generator at 0x7fc7d3bd1af0>"
            ]
          },
          "metadata": {
            "tags": []
          },
          "execution_count": 5
        },
        {
          "output_type": "stream",
          "text": [
            "time: 26.6 ms (started: 2021-03-18 03:00:12 +00:00)\n"
          ],
          "name": "stdout"
        }
      ]
    },
    {
      "cell_type": "code",
      "metadata": {
        "colab": {
          "base_uri": "https://localhost:8080/"
        },
        "id": "wUnxwIHa7EJS",
        "outputId": "334c206b-09f7-4817-cf92-38e1002833c9"
      },
      "source": [
        "from tensorflow.keras.preprocessing.image import ImageDataGenerator\n",
        "\n",
        "\n",
        "train_datagen = ImageDataGenerator(rescale=1./255,\n",
        "                                   rotation_range=20,\n",
        "                                   zoom_range=0.15,\n",
        "                                   width_shift_range=0.2,\n",
        "                                   height_shift_range=0.2,\n",
        "                                   shear_range=0.15,\n",
        "                                   horizontal_flip=True,\n",
        "                                   fill_mode=\"nearest\")\n",
        "valid_datagen = ImageDataGenerator(rescale=1./255)\n",
        "\n",
        "train_dir = os.path.join(BASE_FOLDER, DATA_FOLDER, TRAIN_FACE)\n",
        "valid_dir = os.path.join(BASE_FOLDER, DATA_FOLDER, VALID_FACE)\n",
        "\n",
        "train_gen = train_datagen.flow_from_directory(\n",
        "    train_dir,\n",
        "    target_size=INPUT_SHAPE,\n",
        "    batch_size=BATCH_SIZE,\n",
        "    classes=['REAL', 'FAKE'],\n",
        "    class_mode='binary',\n",
        "    seed= SEED)\n",
        "\n",
        "val_gen = valid_datagen.flow_from_directory(\n",
        "    valid_dir,\n",
        "    target_size=INPUT_SHAPE,\n",
        "    batch_size=BATCH_SIZE,\n",
        "    classes=['REAL', 'FAKE'],\n",
        "    class_mode='binary',\n",
        "    seed= SEED)"
      ],
      "execution_count": null,
      "outputs": [
        {
          "output_type": "stream",
          "text": [
            "Found 12000 images belonging to 2 classes.\n",
            "Found 6996 images belonging to 2 classes.\n",
            "time: 1min 12s (started: 2021-03-18 03:00:16 +00:00)\n"
          ],
          "name": "stdout"
        }
      ]
    },
    {
      "cell_type": "code",
      "metadata": {
        "colab": {
          "base_uri": "https://localhost:8080/"
        },
        "id": "W4RwXW4C7t-2",
        "outputId": "1cf686bf-1fb4-4e8a-f82f-1e394685bfad"
      },
      "source": [
        "print(f\"Total REAL train: {len(os.listdir(os.path.join(BASE_FOLDER, DATA_FOLDER, TRAIN_FACE, 'REAL')))}\")\n",
        "print(f\"Total FAKE train: {len(os.listdir(os.path.join(BASE_FOLDER, DATA_FOLDER, TRAIN_FACE, 'FAKE')))}\")\n",
        "print(f\"Total REAL valid: {len(os.listdir(os.path.join(BASE_FOLDER, DATA_FOLDER, VALID_FACE, 'REAL')))}\")\n",
        "print(f\"Total FAKE valid: {len(os.listdir(os.path.join(BASE_FOLDER, DATA_FOLDER, VALID_FACE, 'FAKE')))}\")"
      ],
      "execution_count": null,
      "outputs": [
        {
          "output_type": "stream",
          "text": [
            "Total REAL train: 6000\n",
            "Total FAKE train: 6000\n",
            "Total REAL valid: 999\n",
            "Total FAKE valid: 5997\n",
            "time: 185 ms (started: 2021-03-17 07:17:41 +00:00)\n"
          ],
          "name": "stdout"
        }
      ]
    },
    {
      "cell_type": "code",
      "metadata": {
        "id": "cxotPFvZ750A",
        "colab": {
          "base_uri": "https://localhost:8080/"
        },
        "outputId": "6817c381-2212-4a56-a004-4ec1714c800b"
      },
      "source": [
        "val_gen.class_indices"
      ],
      "execution_count": null,
      "outputs": [
        {
          "output_type": "execute_result",
          "data": {
            "text/plain": [
              "{'FAKE': 1, 'REAL': 0}"
            ]
          },
          "metadata": {
            "tags": []
          },
          "execution_count": 7
        },
        {
          "output_type": "stream",
          "text": [
            "time: 4.12 ms (started: 2021-03-18 03:01:28 +00:00)\n"
          ],
          "name": "stdout"
        }
      ]
    },
    {
      "cell_type": "code",
      "metadata": {
        "colab": {
          "base_uri": "https://localhost:8080/"
        },
        "id": "Xt8CHW8T78xr",
        "outputId": "3cd58b32-6de1-4990-f69d-5c7993afdad7"
      },
      "source": [
        "densenet = DenseNet121(\n",
        "    weights='/content/drive/My Drive/df/DenseNet-BC-121-32-no-top.h5',\n",
        "    include_top=False,\n",
        "    input_shape=(224,224,3)\n",
        ")\n",
        "\n",
        "for layer in densenet.layers:\n",
        "    layer.trainable = False\n",
        "\n",
        "def build_model(densenet):\n",
        "    model = Sequential()\n",
        "    model.add(densenet)\n",
        "    model.add(layers.GlobalAveragePooling2D())\n",
        "    model.add(layers.BatchNormalization())\n",
        "    model.add(layers.Dropout(0.5))\n",
        "    \n",
        "    model.add(layers.Dense(256, activation='relu'))\n",
        "    model.add(layers.BatchNormalization())\n",
        "    model.add(layers.Dropout(0.5))\n",
        "    \n",
        "    model.add(layers.Dense(1, activation='sigmoid'))\n",
        "    \n",
        "    model.compile(\n",
        "        optimizer=Adam(lr=5e-4, beta_1=0.9, beta_2 = 0.999, epsilon = None, decay = 0.0, amsgrad = True),\n",
        "        loss='binary_crossentropy',\n",
        "        metrics=['binary_accuracy']\n",
        "        )\n",
        "    \n",
        "    return model"
      ],
      "execution_count": null,
      "outputs": [
        {
          "output_type": "stream",
          "text": [
            "time: 2.95 s (started: 2021-03-18 03:04:56 +00:00)\n"
          ],
          "name": "stdout"
        }
      ]
    },
    {
      "cell_type": "code",
      "metadata": {
        "colab": {
          "base_uri": "https://localhost:8080/"
        },
        "id": "0IWb4kDc8st0",
        "outputId": "36cde737-25d2-45da-c118-6ee5d49744a6"
      },
      "source": [
        ""
      ],
      "execution_count": null,
      "outputs": [
        {
          "output_type": "stream",
          "text": [
            "time: 10.3 ms (started: 2021-03-18 03:05:01 +00:00)\n"
          ],
          "name": "stdout"
        }
      ]
    },
    {
      "cell_type": "code",
      "metadata": {
        "colab": {
          "base_uri": "https://localhost:8080/"
        },
        "id": "Udi_WKE78tsd",
        "outputId": "6d45dd73-513f-46d2-93b6-1f9da3b4b0c1"
      },
      "source": [
        "model = build_model(densenet)\n",
        "model.summary()"
      ],
      "execution_count": null,
      "outputs": [
        {
          "output_type": "stream",
          "text": [
            "Model: \"sequential\"\n",
            "_________________________________________________________________\n",
            "Layer (type)                 Output Shape              Param #   \n",
            "=================================================================\n",
            "densenet121 (Functional)     (None, 7, 7, 1024)        7037504   \n",
            "_________________________________________________________________\n",
            "global_average_pooling2d (Gl (None, 1024)              0         \n",
            "_________________________________________________________________\n",
            "batch_normalization (BatchNo (None, 1024)              4096      \n",
            "_________________________________________________________________\n",
            "dropout (Dropout)            (None, 1024)              0         \n",
            "_________________________________________________________________\n",
            "dense (Dense)                (None, 256)               262400    \n",
            "_________________________________________________________________\n",
            "batch_normalization_1 (Batch (None, 256)               1024      \n",
            "_________________________________________________________________\n",
            "dropout_1 (Dropout)          (None, 256)               0         \n",
            "_________________________________________________________________\n",
            "dense_1 (Dense)              (None, 1)                 257       \n",
            "=================================================================\n",
            "Total params: 7,305,281\n",
            "Trainable params: 265,217\n",
            "Non-trainable params: 7,040,064\n",
            "_________________________________________________________________\n",
            "time: 1.23 s (started: 2021-03-18 03:05:07 +00:00)\n"
          ],
          "name": "stdout"
        }
      ]
    },
    {
      "cell_type": "code",
      "metadata": {
        "id": "eVUXCuxPAP2k",
        "colab": {
          "base_uri": "https://localhost:8080/"
        },
        "outputId": "c9b07895-e5d0-40a4-e888-9e14a69b892d"
      },
      "source": [
        "CHECKPOINT = \"weights-improvement6-{epoch:01d}.h5\"\n",
        "weights_path = os.path.join(MODELS_FOLDER, CHECKPOINT)\n",
        "\n",
        "from tensorflow.keras.callbacks import ModelCheckpoint\n",
        "ckp_loss = ModelCheckpoint(weights_path, save_best_only=True, verbose=1, \n",
        "                      monitor='val_loss', mode='min')\n",
        "ckp_accu = ModelCheckpoint(weights_path, save_best_only=True, verbose=1, \n",
        "                      monitor='val_binary_accuracy', mode='max')"
      ],
      "execution_count": null,
      "outputs": [
        {
          "output_type": "stream",
          "text": [
            "time: 3.8 ms (started: 2021-03-18 03:05:12 +00:00)\n"
          ],
          "name": "stdout"
        }
      ]
    },
    {
      "cell_type": "code",
      "metadata": {
        "colab": {
          "base_uri": "https://localhost:8080/"
        },
        "id": "xhfnzqTaTS_K",
        "outputId": "36888fb2-1da2-46c0-d66b-eaa93558254d"
      },
      "source": [
        "# early stopping callback\n",
        "from tensorflow.keras.callbacks import EarlyStopping\n",
        "early_stopping_cb = EarlyStopping(patience=3, restore_best_weights=True)"
      ],
      "execution_count": null,
      "outputs": [
        {
          "output_type": "stream",
          "text": [
            "time: 2.51 ms (started: 2021-03-18 03:05:16 +00:00)\n"
          ],
          "name": "stdout"
        }
      ]
    },
    {
      "cell_type": "code",
      "metadata": {
        "colab": {
          "base_uri": "https://localhost:8080/"
        },
        "id": "HtldXEYb9Xic",
        "outputId": "6f6ad0a4-575e-4da0-c448-d48277e1fdbd"
      },
      "source": [
        "checkpoint = ModelCheckpoint('model.h5', save_best_only=True)\n",
        "\n",
        "train_history_step1 = model.fit(\n",
        "    train_gen,\n",
        "    validation_data=val_gen,\n",
        "    steps_per_epoch=train_gen.samples//BATCH_SIZE,\n",
        "    validation_steps=val_gen.samples//BATCH_SIZE,\n",
        "    epochs=10,\n",
        "    callbacks=[ckp_loss, ckp_accu, early_stopping_cb, checkpoint]\n",
        ")  "
      ],
      "execution_count": null,
      "outputs": [
        {
          "output_type": "stream",
          "text": [
            "Epoch 1/10\n",
            " 18/375 [>.............................] - ETA: 31:17 - loss: 0.5498 - binary_accuracy: 0.6962"
          ],
          "name": "stdout"
        }
      ]
    },
    {
      "cell_type": "code",
      "metadata": {
        "colab": {
          "base_uri": "https://localhost:8080/"
        },
        "id": "pLKLuNPbASVh",
        "outputId": "7f2d0b22-fc90-4e65-8e6d-e14a935b28ca"
      },
      "source": [
        "hist_df1 = pd.DataFrame(train_history_step1.history) \n",
        "hist_csv_file = '/content/drive/My Drive/df/DenseHistory1.csv'\n",
        "with open(hist_csv_file, mode='w') as f:\n",
        "    hist_df1.to_csv(f)"
      ],
      "execution_count": null,
      "outputs": [
        {
          "output_type": "stream",
          "text": [
            "time: 163 ms (started: 2021-03-17 17:32:28 +00:00)\n"
          ],
          "name": "stdout"
        }
      ]
    },
    {
      "cell_type": "code",
      "metadata": {
        "colab": {
          "base_uri": "https://localhost:8080/"
        },
        "id": "AMEwU2_EQUM2",
        "outputId": "72ecce96-d3c7-467b-a505-f1a2411d8aff"
      },
      "source": [
        "model.save('/content/drive/My Drive/df/denseNetBD1.h5')\n",
        "model.save_weights('/content/drive/My Drive/df/denseNetBDweight1.h5')"
      ],
      "execution_count": null,
      "outputs": [
        {
          "output_type": "stream",
          "text": [
            "time: 2.48 s (started: 2021-03-17 17:31:58 +00:00)\n"
          ],
          "name": "stdout"
        }
      ]
    },
    {
      "cell_type": "code",
      "metadata": {
        "id": "8UfyiWb1gk-W",
        "colab": {
          "base_uri": "https://localhost:8080/"
        },
        "outputId": "2ea34aaf-802b-423e-9534-d6dc13906d80"
      },
      "source": [
        "model = models.load_model('/content/drive/My Drive/df/denseNetBD1.h5')\n",
        "model.summary()\n",
        "model.load_weights('/content/drive/My Drive/df/denseNetBDweight1.h5')"
      ],
      "execution_count": null,
      "outputs": [
        {
          "output_type": "stream",
          "text": [
            "Model: \"sequential\"\n",
            "_________________________________________________________________\n",
            "Layer (type)                 Output Shape              Param #   \n",
            "=================================================================\n",
            "densenet121 (Functional)     (None, 7, 7, 1024)        7037504   \n",
            "_________________________________________________________________\n",
            "global_average_pooling2d (Gl (None, 1024)              0         \n",
            "_________________________________________________________________\n",
            "batch_normalization (BatchNo (None, 1024)              4096      \n",
            "_________________________________________________________________\n",
            "dropout (Dropout)            (None, 1024)              0         \n",
            "_________________________________________________________________\n",
            "dense (Dense)                (None, 256)               262400    \n",
            "_________________________________________________________________\n",
            "batch_normalization_1 (Batch (None, 256)               1024      \n",
            "_________________________________________________________________\n",
            "dropout_1 (Dropout)          (None, 256)               0         \n",
            "_________________________________________________________________\n",
            "dense_1 (Dense)              (None, 1)                 257       \n",
            "=================================================================\n",
            "Total params: 7,305,281\n",
            "Trainable params: 265,217\n",
            "Non-trainable params: 7,040,064\n",
            "_________________________________________________________________\n",
            "time: 6.52 s (started: 2021-03-17 18:45:55 +00:00)\n"
          ],
          "name": "stdout"
        }
      ]
    },
    {
      "cell_type": "code",
      "metadata": {
        "colab": {
          "base_uri": "https://localhost:8080/"
        },
        "id": "xt76WRTD9bPR",
        "outputId": "90f10126-a1a3-4bec-fa70-72e07f86a475"
      },
      "source": [
        "for layer in model.layers:\n",
        "    layer.trainable = True\n",
        "\n",
        "checkpoint = ModelCheckpoint('model1.h5', save_best_only=True)\n",
        "\n",
        "train_history_step2 = model.fit(\n",
        "    train_gen,\n",
        "    validation_data=val_gen,\n",
        "    steps_per_epoch=train_gen.samples//BATCH_SIZE,\n",
        "    validation_steps=val_gen.samples//BATCH_SIZE,\n",
        "    epochs=5,\n",
        "    callbacks=[ckp_loss, ckp_accu, early_stopping_cb, checkpoint]\n",
        ")"
      ],
      "execution_count": null,
      "outputs": [
        {
          "output_type": "stream",
          "text": [
            "Epoch 1/3\n",
            "375/375 [==============================] - 5489s 15s/step - loss: 0.4856 - binary_accuracy: 0.7648 - val_loss: 0.5600 - val_binary_accuracy: 0.6940\n",
            "\n",
            "Epoch 00001: val_loss improved from inf to 0.56004, saving model to /content/drive/My Drive/df/models/weights-improvement6-1.h5\n",
            "\n",
            "Epoch 00001: val_binary_accuracy improved from -inf to 0.69395, saving model to /content/drive/My Drive/df/models/weights-improvement6-1.h5\n",
            "Epoch 2/3\n",
            "375/375 [==============================] - 2885s 8s/step - loss: 0.4883 - binary_accuracy: 0.7627 - val_loss: 0.5676 - val_binary_accuracy: 0.6884\n",
            "\n",
            "Epoch 00002: val_loss did not improve from 0.56004\n",
            "\n",
            "Epoch 00002: val_binary_accuracy did not improve from 0.69395\n",
            "Epoch 3/3\n",
            "375/375 [==============================] - 2852s 8s/step - loss: 0.4782 - binary_accuracy: 0.7712 - val_loss: 0.5455 - val_binary_accuracy: 0.7015\n",
            "\n",
            "Epoch 00003: val_loss improved from 0.56004 to 0.54547, saving model to /content/drive/My Drive/df/models/weights-improvement6-3.h5\n",
            "\n",
            "Epoch 00003: val_binary_accuracy improved from 0.69395 to 0.70155, saving model to /content/drive/My Drive/df/models/weights-improvement6-3.h5\n",
            "time: 3h 7min 21s (started: 2021-03-17 18:46:46 +00:00)\n"
          ],
          "name": "stdout"
        }
      ]
    },
    {
      "cell_type": "code",
      "metadata": {
        "id": "b0jdhbaSQujn"
      },
      "source": [
        "hist_df2 = pd.DataFrame(train_history_step2.history) \n",
        "hist_csv_file = '/content/drive/My Drive/df/DenseHistory2.csv'\n",
        "with open(hist_csv_file, mode='w') as f:\n",
        "    hist_df2.to_csv(f)"
      ],
      "execution_count": null,
      "outputs": []
    },
    {
      "cell_type": "code",
      "metadata": {
        "colab": {
          "base_uri": "https://localhost:8080/"
        },
        "id": "GZrIVKtrDTtI",
        "outputId": "df79bf6d-f526-4f41-ab86-94efed19ff44"
      },
      "source": [
        "model.save('/content/drive/My Drive/df/DenseNetLatest.h5')\n",
        "model.save_weights('/content/drive/My Drive/df/weightsDenseNet\n",
        "Latest.h5')"
      ],
      "execution_count": null,
      "outputs": [
        {
          "output_type": "stream",
          "text": [
            "time: 776 ms (started: 2021-02-23 08:38:24 +00:00)\n"
          ],
          "name": "stdout"
        }
      ]
    },
    {
      "cell_type": "code",
      "metadata": {
        "colab": {
          "base_uri": "https://localhost:8080/"
        },
        "id": "Pa-ZGix67kOJ",
        "outputId": "c2dda3bc-18d6-499e-b694-4c64bf55df6a"
      },
      "source": [
        "import json, codecs\n",
        "with codecs.open('/content/drive/My Drive/df/history.json', 'r', encoding='utf-8') as file:\n",
        "  XceptionHistory = json.loads(file.read())\n",
        "\n",
        "import json, codecs\n",
        "with codecs.open('/content/drive/My Drive/df/AnkitHistory2.json', 'r', encoding='utf-8') as file:\n",
        "  DenseHistory = json.loads(file.read())"
      ],
      "execution_count": null,
      "outputs": [
        {
          "output_type": "stream",
          "text": [
            "time: 451 ms (started: 2021-03-24 06:32:26 +00:00)\n"
          ],
          "name": "stdout"
        }
      ]
    }
  ]
}